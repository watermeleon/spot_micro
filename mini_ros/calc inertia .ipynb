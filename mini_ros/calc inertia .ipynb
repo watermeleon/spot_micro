{
 "cells": [
  {
   "cell_type": "code",
   "execution_count": 1,
   "id": "97e8a4d9",
   "metadata": {},
   "outputs": [],
   "source": [
    "import numpy as np"
   ]
  },
  {
   "cell_type": "code",
   "execution_count": null,
   "id": "43c56bfe",
   "metadata": {},
   "outputs": [],
   "source": []
  },
  {
   "cell_type": "code",
   "execution_count": 49,
   "id": "ee964936",
   "metadata": {},
   "outputs": [
    {
     "name": "stdout",
     "output_type": "stream",
     "text": [
      "['99890992.000000', '-354984.093750', '-2802325.750000', '-354984.093750', '95260248.000000', '1295516.875000', '-2802325.750000', '1295516.875000', '14859187.000000']\n",
      "9\n"
     ]
    }
   ],
   "source": [
    "# shoulder:\n",
    "# mat = \"16446348.000000 94939.007812 97153.523438 94939.007812 18350418.000000 -41575.132812 97153.523438 -41575.132812 12377407.000000\"\n",
    "# volume = 56074.898438\n",
    "\n",
    "# larm:\n",
    "mat = \"99890992.000000 -354984.093750 -2802325.750000 -354984.093750 95260248.000000 1295516.875000 -2802325.750000 1295516.875000 14859187.000000\"\n",
    "volume = 85654.601562\n",
    "\n",
    "\n",
    "# mat = mat.replace(\".\", \",\")\n",
    "\n",
    "mat = mat.split()\n",
    "print(mat)\n",
    "print(len(mat))"
   ]
  },
  {
   "cell_type": "code",
   "execution_count": 50,
   "id": "e33fc346",
   "metadata": {},
   "outputs": [
    {
     "name": "stdout",
     "output_type": "stream",
     "text": [
      "[99890992.       -354984.09375 -2802325.75    95260248.\n",
      "  1295516.875   14859187.     ]\n",
      "[1166.20695419   -4.14436688  -32.71658147 1112.14396265   15.12489523\n",
      "  173.477977  ]\n",
      "[1166.207   -4.144  -32.717 1112.144   15.125  173.478]\n"
     ]
    },
    {
     "name": "stderr",
     "output_type": "stream",
     "text": [
      "/home/leonardo/anaconda3/envs/spotmicro/lib/python3.7/site-packages/ipykernel_launcher.py:1: DeprecationWarning: `np.float` is a deprecated alias for the builtin `float`. To silence this warning, use `float` by itself. Doing this will not modify any behavior and is safe. If you specifically wanted the numpy scalar type, use `np.float64` here.\n",
      "Deprecated in NumPy 1.20; for more details and guidance: https://numpy.org/devdocs/release/1.20.0-notes.html#deprecations\n",
      "  \"\"\"Entry point for launching an IPython kernel.\n"
     ]
    }
   ],
   "source": [
    "iner = np.array([mat[0], mat[1], mat[2], mat[4], mat[5], mat[8]]).astype(np.float)\n",
    "print(iner)\n",
    "iner = iner/volume\n",
    "print(iner)\n",
    "iner = np.around(iner, decimals=3)\n",
    "print(iner)"
   ]
  },
  {
   "cell_type": "code",
   "execution_count": 51,
   "id": "1f8137f8",
   "metadata": {},
   "outputs": [
    {
     "name": "stdout",
     "output_type": "stream",
     "text": [
      "<inertia ixx=\" 1166.207\" ixy=\"-4.144\" ixz=\"-32.717\" iyy=\"1112.144\" iyz=\"15.125\" izz=\"173.478\"/>\n"
     ]
    }
   ],
   "source": [
    "inert = \"<inertia ixx=\\\" {}\\\" ixy=\\\"{}\\\" ixz=\\\"{}\\\" iyy=\\\"{}\\\" iyz=\\\"{}\\\" izz=\\\"{}\\\"/>\".format(iner[0],iner[1],iner[2],iner[3],iner[4],iner[5] )\n",
    "print(inert)"
   ]
  },
  {
   "cell_type": "code",
   "execution_count": null,
   "id": "dd60b6f2",
   "metadata": {},
   "outputs": [],
   "source": []
  },
  {
   "cell_type": "code",
   "execution_count": null,
   "id": "051f6f8c",
   "metadata": {},
   "outputs": [],
   "source": []
  }
 ],
 "metadata": {
  "kernelspec": {
   "display_name": "Python 3 (ipykernel)",
   "language": "python",
   "name": "python3"
  },
  "language_info": {
   "codemirror_mode": {
    "name": "ipython",
    "version": 3
   },
   "file_extension": ".py",
   "mimetype": "text/x-python",
   "name": "python",
   "nbconvert_exporter": "python",
   "pygments_lexer": "ipython3",
   "version": "3.7.10"
  }
 },
 "nbformat": 4,
 "nbformat_minor": 5
}
